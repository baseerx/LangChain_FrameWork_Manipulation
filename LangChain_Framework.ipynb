{
 "cells": [
  {
   "cell_type": "code",
   "execution_count": 1,
   "metadata": {
    "colab": {
     "base_uri": "https://localhost:8080/",
     "height": 383
    },
    "executionInfo": {
     "elapsed": 44,
     "status": "error",
     "timestamp": 1754896103546,
     "user": {
      "displayName": "Baseer Khan",
      "userId": "14534756583015624343"
     },
     "user_tz": -300
    },
    "id": "lrrlvY8Acvwe",
    "outputId": "10eeb5a8-2b5b-427f-f367-013cf0a2bbd3"
   },
   "outputs": [
    {
     "ename": "ModuleNotFoundError",
     "evalue": "No module named 'langchain_openai'",
     "output_type": "error",
     "traceback": [
      "\u001b[0;31m---------------------------------------------------------------------------\u001b[0m",
      "\u001b[0;31mModuleNotFoundError\u001b[0m                       Traceback (most recent call last)",
      "\u001b[0;32m/tmp/ipython-input-23996995.py\u001b[0m in \u001b[0;36m<cell line: 0>\u001b[0;34m()\u001b[0m\n\u001b[0;32m----> 1\u001b[0;31m \u001b[0;32mfrom\u001b[0m \u001b[0mlangchain_openai\u001b[0m \u001b[0;32mimport\u001b[0m \u001b[0mOpenAI\u001b[0m\u001b[0;34m\u001b[0m\u001b[0;34m\u001b[0m\u001b[0m\n\u001b[0m\u001b[1;32m      2\u001b[0m \u001b[0;32mfrom\u001b[0m \u001b[0mlangchain_community\u001b[0m\u001b[0;34m.\u001b[0m\u001b[0mchat_models\u001b[0m \u001b[0;32mimport\u001b[0m \u001b[0mChatOpenAI\u001b[0m\u001b[0;34m\u001b[0m\u001b[0;34m\u001b[0m\u001b[0m\n\u001b[1;32m      3\u001b[0m \u001b[0;32mfrom\u001b[0m \u001b[0mlangchain_core\u001b[0m\u001b[0;34m.\u001b[0m\u001b[0mprompts\u001b[0m \u001b[0;32mimport\u001b[0m \u001b[0mPromptTemplate\u001b[0m\u001b[0;34m\u001b[0m\u001b[0;34m\u001b[0m\u001b[0m\n\u001b[1;32m      4\u001b[0m \u001b[0;32mfrom\u001b[0m \u001b[0mlangchain_core\u001b[0m\u001b[0;34m.\u001b[0m\u001b[0mmessages\u001b[0m \u001b[0;32mimport\u001b[0m \u001b[0mHumanMessage\u001b[0m\u001b[0;34m,\u001b[0m \u001b[0mAIMessage\u001b[0m\u001b[0;34m\u001b[0m\u001b[0;34m\u001b[0m\u001b[0m\n\u001b[1;32m      5\u001b[0m \u001b[0;32mfrom\u001b[0m \u001b[0mlangchain_core\u001b[0m\u001b[0;34m.\u001b[0m\u001b[0moutput_parsers\u001b[0m \u001b[0;32mimport\u001b[0m \u001b[0mStrOutputParser\u001b[0m\u001b[0;34m\u001b[0m\u001b[0;34m\u001b[0m\u001b[0m\n",
      "\u001b[0;31mModuleNotFoundError\u001b[0m: No module named 'langchain_openai'",
      "",
      "\u001b[0;31m---------------------------------------------------------------------------\u001b[0;32m\nNOTE: If your import is failing due to a missing package, you can\nmanually install dependencies using either !pip or !apt.\n\nTo view examples of installing some common dependencies, click the\n\"Open Examples\" button below.\n\u001b[0;31m---------------------------------------------------------------------------\u001b[0m\n"
     ]
    }
   ],
   "source": [
    "from langchain_openai import OpenAI\n",
    "from langchain_community.chat_models import ChatOpenAI\n",
    "from langchain_core.prompts import PromptTemplate\n",
    "from langchain_core.messages import HumanMessage, AIMessage\n",
    "from langchain_core.output_parsers import StrOutputParser\n",
    "import warnings\n",
    "warnings.filterwarnings('ignore')\n",
    "import os"
   ]
  },
  {
   "cell_type": "code",
   "execution_count": null,
   "metadata": {
    "id": "sy_A4s9-dyts"
   },
   "outputs": [],
   "source": []
  },
  {
   "cell_type": "markdown",
   "metadata": {
    "id": "wstiQ7oqjXaJ"
   },
   "source": [
    " **Simple Invoking of LangChain ChatOpenAI**"
   ]
  },
  {
   "cell_type": "code",
   "execution_count": null,
   "metadata": {
    "id": "BU-Y31X1fL-i"
   },
   "outputs": [],
   "source": [
    "os.environ['OPENAI_API_KEY']=OPENAI_KEY"
   ]
  },
  {
   "cell_type": "code",
   "execution_count": null,
   "metadata": {
    "id": "IKIuGGBqfVk7"
   },
   "outputs": [],
   "source": [
    "llm=ChatOpenAI(model_name='gpt-4o-mini', temperature=0)"
   ]
  },
  {
   "cell_type": "code",
   "execution_count": null,
   "metadata": {
    "id": "LXXjVwjbffzm"
   },
   "outputs": [],
   "source": [
    "response=llm.invoke(\"last date to train this model?\")"
   ]
  },
  {
   "cell_type": "code",
   "execution_count": null,
   "metadata": {
    "id": "GwmM9GU4f1B8"
   },
   "outputs": [],
   "source": [
    "print(response.content)"
   ]
  },
  {
   "cell_type": "markdown",
   "metadata": {
    "id": "T2yyNxx5jrCj"
   },
   "source": [
    "**USE of PromptTemplate and StrParser**"
   ]
  },
  {
   "cell_type": "code",
   "execution_count": null,
   "metadata": {
    "id": "MqzdyiSfjzfB"
   },
   "outputs": [],
   "source": [
    "prompt=PromptTemplate.from_template(\"what is the capital of {country}?\")"
   ]
  },
  {
   "cell_type": "code",
   "execution_count": null,
   "metadata": {
    "id": "SsotrTQMj8za"
   },
   "outputs": [],
   "source": [
    "parser=StrOutputParser()"
   ]
  },
  {
   "cell_type": "code",
   "execution_count": null,
   "metadata": {
    "id": "BsRZ1zCTkMoc"
   },
   "outputs": [],
   "source": [
    "chain= prompt | llm | parser"
   ]
  },
  {
   "cell_type": "code",
   "execution_count": null,
   "metadata": {
    "id": "fY3sig9gkQ7c"
   },
   "outputs": [],
   "source": [
    "response=chain.invoke({'country':'Pakistan'})"
   ]
  },
  {
   "cell_type": "code",
   "execution_count": null,
   "metadata": {
    "id": "wTRQkGwckV0u"
   },
   "outputs": [],
   "source": [
    "response"
   ]
  },
  {
   "cell_type": "markdown",
   "metadata": {
    "id": "zRS5pC6IlbK0"
   },
   "source": [
    "**Real Time Chat application using langchain**"
   ]
  },
  {
   "cell_type": "code",
   "execution_count": null,
   "metadata": {
    "colab": {
     "base_uri": "https://localhost:8080/"
    },
    "id": "1n7aKjU4kXOp",
    "outputId": "f8ff3442-3aa0-43e6-d1f8-155431dc9e39"
   },
   "outputs": [
    {
     "name": "stdout",
     "output_type": "stream",
     "text": [
      "Answer:  The capital of Pakistan is Islamabad.\n",
      "21 validation errors for AIMessage\n",
      "content.str\n",
      "  Input should be a valid string [type=string_type, input_value=AIMessage(content='The ca...74-a018-67f5cad8cf7c-0'), input_type=AIMessage]\n",
      "    For further information visit https://errors.pydantic.dev/2.11/v/string_type\n",
      "content.list[union[str,dict[any,any]]].0.str\n",
      "  Input should be a valid string [type=string_type, input_value=('content', 'The capital ...Pakistan is Islamabad.'), input_type=tuple]\n",
      "    For further information visit https://errors.pydantic.dev/2.11/v/string_type\n",
      "content.list[union[str,dict[any,any]]].0.dict[any,any]\n",
      "  Input should be a valid dictionary [type=dict_type, input_value=('content', 'The capital ...Pakistan is Islamabad.'), input_type=tuple]\n",
      "    For further information visit https://errors.pydantic.dev/2.11/v/dict_type\n",
      "content.list[union[str,dict[any,any]]].1.str\n",
      "  Input should be a valid string [type=string_type, input_value=('additional_kwargs', {}), input_type=tuple]\n",
      "    For further information visit https://errors.pydantic.dev/2.11/v/string_type\n",
      "content.list[union[str,dict[any,any]]].1.dict[any,any]\n",
      "  Input should be a valid dictionary [type=dict_type, input_value=('additional_kwargs', {}), input_type=tuple]\n",
      "    For further information visit https://errors.pydantic.dev/2.11/v/dict_type\n",
      "content.list[union[str,dict[any,any]]].2.str\n",
      "  Input should be a valid string [type=string_type, input_value=('response_metadata', {'t...top', 'logprobs': None}), input_type=tuple]\n",
      "    For further information visit https://errors.pydantic.dev/2.11/v/string_type\n",
      "content.list[union[str,dict[any,any]]].2.dict[any,any]\n",
      "  Input should be a valid dictionary [type=dict_type, input_value=('response_metadata', {'t...top', 'logprobs': None}), input_type=tuple]\n",
      "    For further information visit https://errors.pydantic.dev/2.11/v/dict_type\n",
      "content.list[union[str,dict[any,any]]].3.str\n",
      "  Input should be a valid string [type=string_type, input_value=('type', 'ai'), input_type=tuple]\n",
      "    For further information visit https://errors.pydantic.dev/2.11/v/string_type\n",
      "content.list[union[str,dict[any,any]]].3.dict[any,any]\n",
      "  Input should be a valid dictionary [type=dict_type, input_value=('type', 'ai'), input_type=tuple]\n",
      "    For further information visit https://errors.pydantic.dev/2.11/v/dict_type\n",
      "content.list[union[str,dict[any,any]]].4.str\n",
      "  Input should be a valid string [type=string_type, input_value=('name', None), input_type=tuple]\n",
      "    For further information visit https://errors.pydantic.dev/2.11/v/string_type\n",
      "content.list[union[str,dict[any,any]]].4.dict[any,any]\n",
      "  Input should be a valid dictionary [type=dict_type, input_value=('name', None), input_type=tuple]\n",
      "    For further information visit https://errors.pydantic.dev/2.11/v/dict_type\n",
      "content.list[union[str,dict[any,any]]].5.str\n",
      "  Input should be a valid string [type=string_type, input_value=('id', 'run--68d0beac-970...74-a018-67f5cad8cf7c-0'), input_type=tuple]\n",
      "    For further information visit https://errors.pydantic.dev/2.11/v/string_type\n",
      "content.list[union[str,dict[any,any]]].5.dict[any,any]\n",
      "  Input should be a valid dictionary [type=dict_type, input_value=('id', 'run--68d0beac-970...74-a018-67f5cad8cf7c-0'), input_type=tuple]\n",
      "    For further information visit https://errors.pydantic.dev/2.11/v/dict_type\n",
      "content.list[union[str,dict[any,any]]].6.str\n",
      "  Input should be a valid string [type=string_type, input_value=('example', False), input_type=tuple]\n",
      "    For further information visit https://errors.pydantic.dev/2.11/v/string_type\n",
      "content.list[union[str,dict[any,any]]].6.dict[any,any]\n",
      "  Input should be a valid dictionary [type=dict_type, input_value=('example', False), input_type=tuple]\n",
      "    For further information visit https://errors.pydantic.dev/2.11/v/dict_type\n",
      "content.list[union[str,dict[any,any]]].7.str\n",
      "  Input should be a valid string [type=string_type, input_value=('tool_calls', []), input_type=tuple]\n",
      "    For further information visit https://errors.pydantic.dev/2.11/v/string_type\n",
      "content.list[union[str,dict[any,any]]].7.dict[any,any]\n",
      "  Input should be a valid dictionary [type=dict_type, input_value=('tool_calls', []), input_type=tuple]\n",
      "    For further information visit https://errors.pydantic.dev/2.11/v/dict_type\n",
      "content.list[union[str,dict[any,any]]].8.str\n",
      "  Input should be a valid string [type=string_type, input_value=('invalid_tool_calls', []), input_type=tuple]\n",
      "    For further information visit https://errors.pydantic.dev/2.11/v/string_type\n",
      "content.list[union[str,dict[any,any]]].8.dict[any,any]\n",
      "  Input should be a valid dictionary [type=dict_type, input_value=('invalid_tool_calls', []), input_type=tuple]\n",
      "    For further information visit https://errors.pydantic.dev/2.11/v/dict_type\n",
      "content.list[union[str,dict[any,any]]].9.str\n",
      "  Input should be a valid string [type=string_type, input_value=('usage_metadata', None), input_type=tuple]\n",
      "    For further information visit https://errors.pydantic.dev/2.11/v/string_type\n",
      "content.list[union[str,dict[any,any]]].9.dict[any,any]\n",
      "  Input should be a valid dictionary [type=dict_type, input_value=('usage_metadata', None), input_type=tuple]\n",
      "    For further information visit https://errors.pydantic.dev/2.11/v/dict_type\n"
     ]
    }
   ],
   "source": [
    "from logging import exception\n",
    "chat=[]\n",
    "while True:\n",
    "  try:\n",
    "    question=str(input(\"Enter your message!\"))\n",
    "    if (question=='Q'):\n",
    "      break\n",
    "    chat.append(HumanMessage(content=question))\n",
    "    response=llm.invoke(chat)\n",
    "    answer=parser.invoke(response)\n",
    "    print('Answer: ',answer)\n",
    "\n",
    "    chat.append(AIMessage(content=response))\n",
    "\n",
    "  except Exception as e:\n",
    "    print(str(e))\n"
   ]
  },
  {
   "cell_type": "code",
   "execution_count": null,
   "metadata": {
    "id": "FpmA9sC2mP7h"
   },
   "outputs": [],
   "source": []
  }
 ],
 "metadata": {
  "accelerator": "GPU",
  "colab": {
   "authorship_tag": "ABX9TyMdz7Us3WxF6FKZYwvw4cHj",
   "gpuType": "T4",
   "provenance": []
  },
  "kernelspec": {
   "display_name": "Python 3",
   "name": "python3"
  },
  "language_info": {
   "name": "python"
  }
 },
 "nbformat": 4,
 "nbformat_minor": 0
}
