{
 "cells": [
  {
   "cell_type": "code",
   "execution_count": 46,
   "metadata": {
    "colab": {
     "base_uri": "https://localhost:8080/",
     "height": 383
    },
    "executionInfo": {
     "elapsed": 44,
     "status": "error",
     "timestamp": 1754896103546,
     "user": {
      "displayName": "Baseer Khan",
      "userId": "14534756583015624343"
     },
     "user_tz": -300
    },
    "id": "lrrlvY8Acvwe",
    "outputId": "10eeb5a8-2b5b-427f-f367-013cf0a2bbd3"
   },
   "outputs": [],
   "source": [
    "from langchain_openai import OpenAI\n",
    "from langchain_community.chat_models import ChatOpenAI\n",
    "from langchain_core.prompts import PromptTemplate\n",
    "from langchain_core.messages import HumanMessage, AIMessage\n",
    "from langchain_core.output_parsers import StrOutputParser\n",
    "from langchain_core.runnables import RunnableParallel\n",
    "import warnings\n",
    "from langchain.chains import LLMChain,SimpleSequentialChain\n",
    "from typing import Literal\n",
    "from dotenv import load_dotenv\n",
    "warnings.filterwarnings('ignore')\n",
    "import os\n"
   ]
  },
  {
   "cell_type": "markdown",
   "metadata": {
    "id": "wstiQ7oqjXaJ"
   },
   "source": [
    " **Simple Invoking of LangChain ChatOpenAI**"
   ]
  },
  {
   "cell_type": "code",
   "execution_count": 2,
   "metadata": {},
   "outputs": [
    {
     "data": {
      "text/plain": [
       "True"
      ]
     },
     "execution_count": 2,
     "metadata": {},
     "output_type": "execute_result"
    }
   ],
   "source": [
    "load_dotenv()"
   ]
  },
  {
   "cell_type": "code",
   "execution_count": 3,
   "metadata": {
    "id": "IKIuGGBqfVk7"
   },
   "outputs": [],
   "source": [
    "llm=ChatOpenAI(model_name='gpt-4o-mini', temperature=0)"
   ]
  },
  {
   "cell_type": "code",
   "execution_count": 4,
   "metadata": {
    "id": "LXXjVwjbffzm"
   },
   "outputs": [],
   "source": [
    "response=llm.invoke(\"last date to train this model?\")"
   ]
  },
  {
   "cell_type": "code",
   "execution_count": 5,
   "metadata": {
    "id": "GwmM9GU4f1B8"
   },
   "outputs": [
    {
     "name": "stdout",
     "output_type": "stream",
     "text": [
      "The training data for this model goes up until October 2021. If you're asking about updates or newer versions, I don't have information on specific release dates or future training schedules.\n"
     ]
    }
   ],
   "source": [
    "print(response.content)"
   ]
  },
  {
   "cell_type": "markdown",
   "metadata": {
    "id": "T2yyNxx5jrCj"
   },
   "source": [
    "**USE of PromptTemplate and StrParser**"
   ]
  },
  {
   "cell_type": "code",
   "execution_count": 6,
   "metadata": {
    "id": "MqzdyiSfjzfB"
   },
   "outputs": [],
   "source": [
    "prompt=PromptTemplate.from_template(\"what is the capital of {country}?\")"
   ]
  },
  {
   "cell_type": "code",
   "execution_count": 7,
   "metadata": {
    "id": "SsotrTQMj8za"
   },
   "outputs": [],
   "source": [
    "parser=StrOutputParser()"
   ]
  },
  {
   "cell_type": "code",
   "execution_count": 8,
   "metadata": {
    "id": "BsRZ1zCTkMoc"
   },
   "outputs": [],
   "source": [
    "chain= prompt | llm | parser"
   ]
  },
  {
   "cell_type": "code",
   "execution_count": 9,
   "metadata": {
    "id": "fY3sig9gkQ7c"
   },
   "outputs": [],
   "source": [
    "response=chain.invoke({'country':'Pakistan'})"
   ]
  },
  {
   "cell_type": "code",
   "execution_count": 10,
   "metadata": {
    "id": "wTRQkGwckV0u"
   },
   "outputs": [
    {
     "data": {
      "text/plain": [
       "'The capital of Pakistan is Islamabad.'"
      ]
     },
     "execution_count": 10,
     "metadata": {},
     "output_type": "execute_result"
    }
   ],
   "source": [
    "response"
   ]
  },
  {
   "cell_type": "markdown",
   "metadata": {
    "id": "zRS5pC6IlbK0"
   },
   "source": [
    "**Real Time Chat application using langchain**"
   ]
  },
  {
   "cell_type": "code",
   "execution_count": 11,
   "metadata": {
    "colab": {
     "base_uri": "https://localhost:8080/"
    },
    "id": "1n7aKjU4kXOp",
    "outputId": "f8ff3442-3aa0-43e6-d1f8-155431dc9e39"
   },
   "outputs": [],
   "source": [
    "from logging import exception\n",
    "chat=[]\n",
    "while True:\n",
    "  try:\n",
    "    question=str(input(\"Enter your message!\"))\n",
    "    if (question=='Q'):\n",
    "      break\n",
    "    chat.append(HumanMessage(content=question))\n",
    "    response=llm.invoke(chat)\n",
    "    answer=parser.invoke(response)\n",
    "    print('Question',chat[-1].content)\n",
    "    print('Answer: ',answer)\n",
    "\n",
    "    chat.append(AIMessage(content=response.content))\n",
    "\n",
    "  except Exception as e:\n",
    "    print(str(e))\n"
   ]
  },
  {
   "cell_type": "markdown",
   "metadata": {
    "id": "FpmA9sC2mP7h"
   },
   "source": [
    "Another way of using LLM chains"
   ]
  },
  {
   "cell_type": "code",
   "execution_count": 12,
   "metadata": {},
   "outputs": [],
   "source": [
    "prompt=PromptTemplate.from_template(\"what is the capital of {country}?\")\n"
   ]
  },
  {
   "cell_type": "code",
   "execution_count": null,
   "metadata": {},
   "outputs": [],
   "source": [
    "model=\"gpt-4o-mini\""
   ]
  },
  {
   "cell_type": "code",
   "execution_count": 21,
   "metadata": {},
   "outputs": [],
   "source": [
    "llm = ChatOpenAI(model_name=model, temperature=0) # type: ignore"
   ]
  },
  {
   "cell_type": "code",
   "execution_count": 29,
   "metadata": {},
   "outputs": [],
   "source": [
    "response=LLMChain(llm=llm,prompt=prompt,output_parser=parser).invoke({'country':'Pakistan'})"
   ]
  },
  {
   "cell_type": "code",
   "execution_count": 30,
   "metadata": {},
   "outputs": [],
   "source": [
    "response=LLMChain(prompt=prompt,llm=llm,output_parser=parser).invoke({'country':'Pakistan'})"
   ]
  },
  {
   "cell_type": "code",
   "execution_count": 31,
   "metadata": {},
   "outputs": [
    {
     "data": {
      "text/plain": [
       "'The capital of Pakistan is Islamabad.'"
      ]
     },
     "execution_count": 31,
     "metadata": {},
     "output_type": "execute_result"
    }
   ],
   "source": [
    "response['text']"
   ]
  },
  {
   "cell_type": "markdown",
   "metadata": {},
   "source": [
    "Use of SimpleSequentialChain for calling on after another chain in sequence"
   ]
  },
  {
   "cell_type": "code",
   "execution_count": 33,
   "metadata": {},
   "outputs": [],
   "source": [
    "prompt1=PromptTemplate.from_template(\"What is the capital of {country}?\")\n",
    "prompt2=PromptTemplate.from_template(\"Info regarding the {city}\")"
   ]
  },
  {
   "cell_type": "code",
   "execution_count": 35,
   "metadata": {},
   "outputs": [],
   "source": [
    "chain1=LLMChain(prompt=prompt1,llm=llm,output_parser=parser)\n",
    "chain2=LLMChain(prompt=prompt2,llm=llm,output_parser=parser)"
   ]
  },
  {
   "cell_type": "code",
   "execution_count": 39,
   "metadata": {},
   "outputs": [],
   "source": [
    "over_chain=SimpleSequentialChain(chains=[chain1,chain2])"
   ]
  },
  {
   "cell_type": "code",
   "execution_count": 40,
   "metadata": {},
   "outputs": [],
   "source": [
    "response=over_chain.run(\"Italy\")"
   ]
  },
  {
   "cell_type": "code",
   "execution_count": 41,
   "metadata": {},
   "outputs": [
    {
     "data": {
      "text/plain": [
       "'Rome, the capital of Italy, is a city rich in history, culture, and art. Here are some key points about Rome:\\n\\n1. **Historical Significance**: Rome is often referred to as the \"Eternal City\" and has a history that spans over 2,500 years. It was the center of the Roman Empire, which was one of the most powerful civilizations in history.\\n\\n2. **Cultural Heritage**: The city is home to numerous UNESCO World Heritage Sites, including the historic center of Rome, the Vatican City, and the ruins of ancient Rome, such as the Colosseum, the Roman Forum, and the Pantheon.\\n\\n3. **Vatican City**: Located within Rome, Vatican City is the smallest independent state in the world and serves as the spiritual and administrative center of the Roman Catholic Church. It is home to St. Peter\\'s Basilica and the Sistine Chapel, famous for Michelangelo\\'s ceiling.\\n\\n4. **Architecture**: Rome boasts a diverse range of architectural styles, from ancient Roman structures to Renaissance and Baroque masterpieces. Notable examples include the Trevi Fountain, the Spanish Steps, and the various piazzas and churches scattered throughout the city.\\n\\n5. **Cuisine**: Roman cuisine is known for its simplicity and use of fresh ingredients. Traditional dishes include pasta alla carbonara, cacio e pepe, and Roman-style pizza.\\n\\n6. **Population**: As of the latest estimates, Rome has a population of about 2.8 million people, making it the most populous city in Italy.\\n\\n7. **Economy**: Rome\\'s economy is diverse, with sectors such as tourism, film, fashion, and services playing significant roles. The city attracts millions of tourists each year, drawn by its historical sites and cultural offerings.\\n\\n8. **Education and Research**: Rome is home to several prestigious universities and research institutions, including Sapienza University, one of the largest universities in Europe.\\n\\n9. **Transportation**: The city has a comprehensive public transportation system, including buses, trams, and a metro system. Rome\\'s main airport is Leonardo da Vinci International Airport (Fiumicino).\\n\\n10. **Art and Festivals**: Rome hosts numerous cultural events and festivals throughout the year, celebrating everything from film and music to food and art.\\n\\nOverall, Rome is a vibrant city that blends ancient history with modern life, making it a unique destination for visitors and a significant cultural hub in Europe.'"
      ]
     },
     "execution_count": 41,
     "metadata": {},
     "output_type": "execute_result"
    }
   ],
   "source": [
    "response"
   ]
  },
  {
   "cell_type": "markdown",
   "metadata": {},
   "source": [
    "Runnable parrallel allows two chains to run parallel"
   ]
  },
  {
   "cell_type": "code",
   "execution_count": 49,
   "metadata": {},
   "outputs": [],
   "source": [
    "#all will remain just use runnable parralel\n",
    "over_chain=RunnableParallel(country=prompt1 | llm,city=prompt2 | llm)"
   ]
  },
  {
   "cell_type": "code",
   "execution_count": 54,
   "metadata": {},
   "outputs": [],
   "source": [
    "#we need to pass both parameter at once \n",
    "result=over_chain.invoke({'country':'Italy','city':'Rome'})"
   ]
  },
  {
   "cell_type": "code",
   "execution_count": 53,
   "metadata": {},
   "outputs": [
    {
     "data": {
      "text/plain": [
       "'The capital of Italy is Rome.'"
      ]
     },
     "execution_count": 53,
     "metadata": {},
     "output_type": "execute_result"
    }
   ],
   "source": [
    "result['country'].content"
   ]
  },
  {
   "cell_type": "code",
   "execution_count": null,
   "metadata": {},
   "outputs": [],
   "source": []
  }
 ],
 "metadata": {
  "accelerator": "GPU",
  "colab": {
   "authorship_tag": "ABX9TyMdz7Us3WxF6FKZYwvw4cHj",
   "gpuType": "T4",
   "provenance": []
  },
  "kernelspec": {
   "display_name": "Python 3",
   "name": "python3"
  },
  "language_info": {
   "codemirror_mode": {
    "name": "ipython",
    "version": 3
   },
   "file_extension": ".py",
   "mimetype": "text/x-python",
   "name": "python",
   "nbconvert_exporter": "python",
   "pygments_lexer": "ipython3",
   "version": "3.12.3"
  }
 },
 "nbformat": 4,
 "nbformat_minor": 0
}
