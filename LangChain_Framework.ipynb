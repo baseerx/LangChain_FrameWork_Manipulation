{
 "cells": [
  {
   "cell_type": "code",
   "execution_count": 6,
   "metadata": {
    "colab": {
     "base_uri": "https://localhost:8080/",
     "height": 383
    },
    "executionInfo": {
     "elapsed": 44,
     "status": "error",
     "timestamp": 1754896103546,
     "user": {
      "displayName": "Baseer Khan",
      "userId": "14534756583015624343"
     },
     "user_tz": -300
    },
    "id": "lrrlvY8Acvwe",
    "outputId": "10eeb5a8-2b5b-427f-f367-013cf0a2bbd3"
   },
   "outputs": [],
   "source": [
    "from langchain_openai import OpenAI\n",
    "from langchain_community.chat_models import ChatOpenAI\n",
    "from langchain_core.prompts import PromptTemplate\n",
    "from langchain_core.messages import HumanMessage, AIMessage\n",
    "from langchain_core.output_parsers import StrOutputParser\n",
    "import warnings\n",
    "from dotenv import load_dotenv\n",
    "warnings.filterwarnings('ignore')\n",
    "import os\n"
   ]
  },
  {
   "cell_type": "markdown",
   "metadata": {
    "id": "wstiQ7oqjXaJ"
   },
   "source": [
    " **Simple Invoking of LangChain ChatOpenAI**"
   ]
  },
  {
   "cell_type": "code",
   "execution_count": 7,
   "metadata": {},
   "outputs": [
    {
     "data": {
      "text/plain": [
       "True"
      ]
     },
     "execution_count": 7,
     "metadata": {},
     "output_type": "execute_result"
    }
   ],
   "source": [
    "load_dotenv()"
   ]
  },
  {
   "cell_type": "code",
   "execution_count": 8,
   "metadata": {
    "id": "IKIuGGBqfVk7"
   },
   "outputs": [],
   "source": [
    "llm=ChatOpenAI(model_name='gpt-4o-mini', temperature=0)"
   ]
  },
  {
   "cell_type": "code",
   "execution_count": 9,
   "metadata": {
    "id": "LXXjVwjbffzm"
   },
   "outputs": [],
   "source": [
    "response=llm.invoke(\"last date to train this model?\")"
   ]
  },
  {
   "cell_type": "code",
   "execution_count": 10,
   "metadata": {
    "id": "GwmM9GU4f1B8"
   },
   "outputs": [
    {
     "name": "stdout",
     "output_type": "stream",
     "text": [
      "The last date for the training of this model is October 2021. If you have any questions or need information up to that date, feel free to ask!\n"
     ]
    }
   ],
   "source": [
    "print(response.content)"
   ]
  },
  {
   "cell_type": "markdown",
   "metadata": {
    "id": "T2yyNxx5jrCj"
   },
   "source": [
    "**USE of PromptTemplate and StrParser**"
   ]
  },
  {
   "cell_type": "code",
   "execution_count": 11,
   "metadata": {
    "id": "MqzdyiSfjzfB"
   },
   "outputs": [],
   "source": [
    "prompt=PromptTemplate.from_template(\"what is the capital of {country}?\")"
   ]
  },
  {
   "cell_type": "code",
   "execution_count": 12,
   "metadata": {
    "id": "SsotrTQMj8za"
   },
   "outputs": [],
   "source": [
    "parser=StrOutputParser()"
   ]
  },
  {
   "cell_type": "code",
   "execution_count": 13,
   "metadata": {
    "id": "BsRZ1zCTkMoc"
   },
   "outputs": [],
   "source": [
    "chain= prompt | llm | parser"
   ]
  },
  {
   "cell_type": "code",
   "execution_count": 14,
   "metadata": {
    "id": "fY3sig9gkQ7c"
   },
   "outputs": [],
   "source": [
    "response=chain.invoke({'country':'Pakistan'})"
   ]
  },
  {
   "cell_type": "code",
   "execution_count": 15,
   "metadata": {
    "id": "wTRQkGwckV0u"
   },
   "outputs": [
    {
     "data": {
      "text/plain": [
       "'The capital of Pakistan is Islamabad.'"
      ]
     },
     "execution_count": 15,
     "metadata": {},
     "output_type": "execute_result"
    }
   ],
   "source": [
    "response"
   ]
  },
  {
   "cell_type": "markdown",
   "metadata": {
    "id": "zRS5pC6IlbK0"
   },
   "source": [
    "**Real Time Chat application using langchain**"
   ]
  },
  {
   "cell_type": "code",
   "execution_count": 20,
   "metadata": {
    "colab": {
     "base_uri": "https://localhost:8080/"
    },
    "id": "1n7aKjU4kXOp",
    "outputId": "f8ff3442-3aa0-43e6-d1f8-155431dc9e39"
   },
   "outputs": [
    {
     "name": "stdout",
     "output_type": "stream",
     "text": [
      "Question Hi there\n",
      "Answer:  Hello! How can I assist you today?\n",
      "Question when did you get trained last time?\n",
      "Answer:  My training includes information up until October 2023. If you have any questions or need assistance with something specific, feel free to ask!\n"
     ]
    }
   ],
   "source": [
    "from logging import exception\n",
    "chat=[]\n",
    "while True:\n",
    "  try:\n",
    "    question=str(input(\"Enter your message!\"))\n",
    "    if (question=='Q'):\n",
    "      break\n",
    "    chat.append(HumanMessage(content=question))\n",
    "    response=llm.invoke(chat)\n",
    "    answer=parser.invoke(response)\n",
    "    print('Question',chat[-1].content)\n",
    "    print('Answer: ',answer)\n",
    "\n",
    "    chat.append(AIMessage(content=response.content))\n",
    "\n",
    "  except Exception as e:\n",
    "    print(str(e))\n"
   ]
  },
  {
   "cell_type": "code",
   "execution_count": null,
   "metadata": {
    "id": "FpmA9sC2mP7h"
   },
   "outputs": [],
   "source": []
  }
 ],
 "metadata": {
  "accelerator": "GPU",
  "colab": {
   "authorship_tag": "ABX9TyMdz7Us3WxF6FKZYwvw4cHj",
   "gpuType": "T4",
   "provenance": []
  },
  "kernelspec": {
   "display_name": "Python 3",
   "name": "python3"
  },
  "language_info": {
   "codemirror_mode": {
    "name": "ipython",
    "version": 3
   },
   "file_extension": ".py",
   "mimetype": "text/x-python",
   "name": "python",
   "nbconvert_exporter": "python",
   "pygments_lexer": "ipython3",
   "version": "3.12.3"
  }
 },
 "nbformat": 4,
 "nbformat_minor": 0
}
